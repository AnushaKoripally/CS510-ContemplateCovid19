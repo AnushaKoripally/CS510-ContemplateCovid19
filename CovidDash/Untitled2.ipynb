{
 "cells": [
  {
   "cell_type": "code",
   "execution_count": 134,
   "id": "048f12ed",
   "metadata": {},
   "outputs": [],
   "source": [
    "import pandas as pd\n",
    "population = pd.read_csv('https://data.ct.gov/resource/hree-nys2.csv', encoding='utf-8', na_values=None)\n",
    "data = population.groupby('updatedate').sum().sort_values(by='updatedate')\n",
    "data = data.reset_index()\n",
    "data['updatedate'] = pd.to_datetime(data['updatedate'])\n",
    "\n",
    "\n"
   ]
  },
  {
   "cell_type": "code",
   "execution_count": null,
   "id": "15b71bfb",
   "metadata": {},
   "outputs": [],
   "source": []
  },
  {
   "cell_type": "code",
   "execution_count": 132,
   "id": "9fc592d5",
   "metadata": {},
   "outputs": [
    {
     "data": {
      "text/plain": [
       "['2021-03-11',\n",
       " '2021-03-18',\n",
       " '2021-03-25',\n",
       " '2021-04-01',\n",
       " '2021-04-08',\n",
       " '2021-04-15']"
      ]
     },
     "execution_count": 132,
     "metadata": {},
     "output_type": "execute_result"
    }
   ],
   "source": [
    "test=population.groupby('updatedate').sum().sort_values(by='updatedate')\n",
    "test = test.reset_index()\n",
    "\n",
    "from datetime import datetime\n",
    "listdates=[]\n",
    "for ts in test['updatedate']:\n",
    "    listdate=datetime.strftime(pd.to_datetime(ts),  format='%Y-%m-%d')\n",
    "    listdates.append(listdate)\n",
    "    \n",
    "listdates\n"
   ]
  },
  {
   "cell_type": "code",
   "execution_count": 133,
   "id": "e8c48c14",
   "metadata": {},
   "outputs": [],
   "source": [
    "test\n",
    "totalcases = test[test.columns[5]].values.tolist()\n",
    "caserate = test[test.columns[6]].values.tolist()\n",
    "totaltests = test[test.columns[7]].values.tolist()\n",
    "percentpositive = test[test.columns[8]].values.tolist()"
   ]
  },
  {
   "cell_type": "code",
   "execution_count": 129,
   "id": "9cb3f0e5",
   "metadata": {},
   "outputs": [
    {
     "data": {
      "text/plain": [
       "[9516, 10688, 12623, 15504, 16322, 15134]"
      ]
     },
     "execution_count": 129,
     "metadata": {},
     "output_type": "execute_result"
    }
   ],
   "source": [
    "totalcases"
   ]
  },
  {
   "cell_type": "code",
   "execution_count": null,
   "id": "27aabd70",
   "metadata": {},
   "outputs": [],
   "source": []
  },
  {
   "cell_type": "code",
   "execution_count": null,
   "id": "51390a50",
   "metadata": {},
   "outputs": [],
   "source": []
  },
  {
   "cell_type": "code",
   "execution_count": null,
   "id": "fb68b389",
   "metadata": {},
   "outputs": [],
   "source": []
  },
  {
   "cell_type": "code",
   "execution_count": null,
   "id": "409f3c21",
   "metadata": {},
   "outputs": [],
   "source": []
  }
 ],
 "metadata": {
  "kernelspec": {
   "display_name": "Python 3",
   "language": "python",
   "name": "python3"
  },
  "language_info": {
   "codemirror_mode": {
    "name": "ipython",
    "version": 3
   },
   "file_extension": ".py",
   "mimetype": "text/x-python",
   "name": "python",
   "nbconvert_exporter": "python",
   "pygments_lexer": "ipython3",
   "version": "3.8.9"
  }
 },
 "nbformat": 4,
 "nbformat_minor": 5
}

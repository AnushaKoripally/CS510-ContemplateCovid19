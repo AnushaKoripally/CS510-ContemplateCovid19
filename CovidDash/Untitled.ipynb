{
 "cells": [
  {
   "cell_type": "code",
   "execution_count": 10,
   "id": "eaf31283",
   "metadata": {},
   "outputs": [],
   "source": [
    "import pandas as pd\n",
    "school = pd.read_csv('https://data.ct.gov/resource/ehua-hw73.csv', encoding='utf-8', na_values=None)\n",
    "data = school.groupby('date').sum().sort_values(by='date')\n",
    "data = data.reset_index()    \n"
   ]
  },
  {
   "cell_type": "code",
   "execution_count": 16,
   "id": "172be0c8",
   "metadata": {},
   "outputs": [],
   "source": [
    "data['date']= pd.to_datetime(data['date'])\n",
    "result = data.groupby([data['date'].dt.year, data['date'].dt.month], as_index=False).agg({'staffcases':sum,'studentcases':sum})\n",
    "result\n",
    "\n",
    "staffcases=result[result.columns[0]].values.tolist()\n",
    "studentcases=result[result.columns[1]].values.tolist()\n",
    "newLabels = [\"Mar 2020\"]\n",
    "array_length = len(result)\n",
    "for index in range(array_length):\n",
    "        newLabels[0] == \"Mar 2020\"\n",
    "        if index==1: newLabels.append(\"Apr 2020\")\n",
    "        elif index==2: newLabels.append(\"May 2020\")\n",
    "        elif index==3: newLabels.append(\"Jun 2020\")\n",
    "        elif index==4: newLabels.append(\"Jul 2020\")\n",
    "        elif index==5: newLabels.append(\"Aug 2020\")\n",
    "        elif index==6: newLabels.append(\"Sept 2020\")\n",
    "        elif index==7: newLabels.append(\"Oct 2020\")\n",
    "        elif index==8: newLabels.append(\"Nov 2020\")\n",
    "        elif index==9: newLabels.append(\"Dec 2020\")\n",
    "        elif index==10: newLabels.append(\"Jan 2021\")\n",
    "        elif index==11: newLabels.append(\"Feb 2021\")\n",
    "        elif index==12: newLabels.append(\"Mar 2021\")\n",
    "        elif index==13: newLabels.append(\"Apr 2021\")\n",
    "        elif index==14: newLabels.append(\"May 2021\")\n",
    "        elif index==15: newLabels.append(\"Jun 2021\")\n",
    "        elif index==16: newLabels.append(\"Jul 2021\")\n",
    "        elif index==17: newLabels.append(\"Aug 2021\")\n",
    "        elif index==18: newLabels.append(\"Sept 2021\")\n",
    "        elif index==19: newLabels.append(\"Oct 2021\")"
   ]
  },
  {
   "cell_type": "code",
   "execution_count": null,
   "id": "399c349f",
   "metadata": {},
   "outputs": [],
   "source": []
  },
  {
   "cell_type": "code",
   "execution_count": null,
   "id": "a69421fa",
   "metadata": {},
   "outputs": [],
   "source": []
  },
  {
   "cell_type": "code",
   "execution_count": null,
   "id": "abdcc4d3",
   "metadata": {},
   "outputs": [],
   "source": []
  }
 ],
 "metadata": {
  "kernelspec": {
   "display_name": "Python 3",
   "language": "python",
   "name": "python3"
  },
  "language_info": {
   "codemirror_mode": {
    "name": "ipython",
    "version": 3
   },
   "file_extension": ".py",
   "mimetype": "text/x-python",
   "name": "python",
   "nbconvert_exporter": "python",
   "pygments_lexer": "ipython3",
   "version": "3.8.9"
  }
 },
 "nbformat": 4,
 "nbformat_minor": 5
}
